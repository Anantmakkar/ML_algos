{
 "cells": [
  {
   "cell_type": "markdown",
   "metadata": {},
   "source": [
    "#PCA is dimensionality reduction technique\n",
    "#feature extraction technique\n",
    "#features need not to be same we can have combination of multiple features in a single feature feature\n",
    "#convert n features to k when k<=n\n",
    "#data compression/data visulization(reducing dimension to 2d or 3d in order to visulize dataset)3. Speed up computation\n",
    "#pca is unsupervised(we never use y)\n",
    "#it preserves the feature with maximum variaability\n",
    "#if u have more spread on the feature that means that feature is more important\n",
    "\n"
   ]
  },
  {
   "cell_type": "markdown",
   "metadata": {},
   "source": [
    "#we have to find the direction where we have maximum variance is there and drop the perpendicular direction feature 2d->1d\n",
    "#find the vector in direction of maxm points and make it a unit vector(direction)\n",
    "#once u find the unit vector u need to project all the xis on this vector\n",
    "#projection xi=(vector.xi)/mangintude of the vector\n",
    "xi(proj)=(u1(vector))^T.xi\n",
    "to maximize variance minimize the mean\n",
    "maximize(1/m(sigma(1 to m) ui^T.xi)\n",
    "#or we can also see problem as minimizing the distance of points from the line in prependicular direction\n",
    "#distance**2(pythagores thm)=xiT.xi-uiT.xi\n",
    "min u1 sigma(1 to m) di^2\n",
    "\n",
    "\n"
   ]
  },
  {
   "cell_type": "markdown",
   "metadata": {},
   "source": [
    "PCA summary\n",
    "1. column standardise[accord to mean]\n",
    "2. S=xT.x/m [covaraince matrix]\n",
    "3. compute eigen values and eigenvectors\n",
    "4. u1=v1 and u2=v2...\n",
    "5. select top K eigen values\n",
    "6. project xi on selected eigen vectors\n",
    "#larger eigen vectors means having direction with maxm variance in that direction"
   ]
  },
  {
   "cell_type": "code",
   "execution_count": 1,
   "metadata": {},
   "outputs": [],
   "source": [
    "#pca code\n",
    "import pandas as pd   \n",
    "import numpy as np\n",
    "import warnings\n",
    "warnings.filterwarnings(\"ignore\")"
   ]
  },
  {
   "cell_type": "code",
   "execution_count": 2,
   "metadata": {},
   "outputs": [],
   "source": [
    "from sklearn.datasets import load_boston"
   ]
  },
  {
   "cell_type": "code",
   "execution_count": 3,
   "metadata": {},
   "outputs": [],
   "source": [
    "boston=load_boston()"
   ]
  },
  {
   "cell_type": "code",
   "execution_count": 7,
   "metadata": {},
   "outputs": [],
   "source": [
    "X=boston['data']"
   ]
  },
  {
   "cell_type": "code",
   "execution_count": 10,
   "metadata": {},
   "outputs": [
    {
     "data": {
      "text/plain": [
       "(506, 13)"
      ]
     },
     "execution_count": 10,
     "metadata": {},
     "output_type": "execute_result"
    }
   ],
   "source": [
    "X.shape"
   ]
  },
  {
   "cell_type": "code",
   "execution_count": 14,
   "metadata": {},
   "outputs": [],
   "source": [
    "mu=X.mean(axis=0)\n",
    "#mean centring\n",
    "X_=X-mu"
   ]
  },
  {
   "cell_type": "markdown",
   "metadata": {},
   "source": [
    "finding covariance matrix\n"
   ]
  },
  {
   "cell_type": "code",
   "execution_count": 17,
   "metadata": {},
   "outputs": [
    {
     "data": {
      "text/plain": [
       "(13, 13)"
      ]
     },
     "execution_count": 17,
     "metadata": {},
     "output_type": "execute_result"
    }
   ],
   "source": [
    "S=np.dot(X_.T, X_)#COVARIANCE MATRIX (N*N)\n",
    "S.shape"
   ]
  },
  {
   "cell_type": "code",
   "execution_count": 20,
   "metadata": {},
   "outputs": [],
   "source": [
    "#GETTING EIGEN VALUES/EIGEN VECTORS\n",
    "lambdas,vectors=np.linalg.eig(S)#this function computes eigen values/eigen vectors of a square array\n",
    "#first eigen values and secondly eigen vectors that too in the column\n"
   ]
  },
  {
   "cell_type": "code",
   "execution_count": 22,
   "metadata": {},
   "outputs": [
    {
     "data": {
      "text/plain": [
       "(13,)"
      ]
     },
     "execution_count": 22,
     "metadata": {},
     "output_type": "execute_result"
    }
   ],
   "source": [
    "lambdas.shape"
   ]
  },
  {
   "cell_type": "code",
   "execution_count": 23,
   "metadata": {},
   "outputs": [
    {
     "data": {
      "text/plain": [
       "array([15599405.18671571,  3156416.68100505])"
      ]
     },
     "execution_count": 23,
     "metadata": {},
     "output_type": "execute_result"
    }
   ],
   "source": [
    "lambdas[:2]#top 2 eigen values"
   ]
  },
  {
   "cell_type": "code",
   "execution_count": 24,
   "metadata": {},
   "outputs": [
    {
     "data": {
      "text/plain": [
       "(13, 13)"
      ]
     },
     "execution_count": 24,
     "metadata": {},
     "output_type": "execute_result"
    }
   ],
   "source": [
    "vectors.shape"
   ]
  },
  {
   "cell_type": "code",
   "execution_count": 28,
   "metadata": {},
   "outputs": [],
   "source": [
    "#next step to get top k\n",
    "v=vectors[:,:2]# as eigen vectors are in columns"
   ]
  },
  {
   "cell_type": "code",
   "execution_count": 29,
   "metadata": {},
   "outputs": [
    {
     "data": {
      "text/plain": [
       "(506, 13)"
      ]
     },
     "execution_count": 29,
     "metadata": {},
     "output_type": "execute_result"
    }
   ],
   "source": [
    "#projection part starts\n",
    "X_.shape"
   ]
  },
  {
   "cell_type": "code",
   "execution_count": 31,
   "metadata": {},
   "outputs": [
    {
     "data": {
      "text/plain": [
       "(13, 2)"
      ]
     },
     "execution_count": 31,
     "metadata": {},
     "output_type": "execute_result"
    }
   ],
   "source": [
    "v.shape"
   ]
  },
  {
   "cell_type": "code",
   "execution_count": 38,
   "metadata": {},
   "outputs": [
    {
     "data": {
      "text/plain": [
       "array([[-119.81884272,   -5.56005586],\n",
       "       [-168.89015548,   10.11620863],\n",
       "       [-169.31170747,   14.0805323 ],\n",
       "       ...,\n",
       "       [-138.38716306,    0.9380922 ],\n",
       "       [-137.50517338,    4.2518251 ],\n",
       "       [-139.19033295,    1.00906423]])"
      ]
     },
     "execution_count": 38,
     "metadata": {},
     "output_type": "execute_result"
    }
   ],
   "source": [
    "X_new=np.dot(X_,v)\n",
    "X_new"
   ]
  },
  {
   "cell_type": "code",
   "execution_count": 35,
   "metadata": {},
   "outputs": [],
   "source": [
    "#13 dimensions-> 2 dimensions done\n",
    "#using sklearn\n",
    "from sklearn.decomposition import PCA"
   ]
  },
  {
   "cell_type": "code",
   "execution_count": 36,
   "metadata": {},
   "outputs": [],
   "source": [
    "pca=PCA(n_components=2)"
   ]
  },
  {
   "cell_type": "code",
   "execution_count": 37,
   "metadata": {},
   "outputs": [
    {
     "data": {
      "text/plain": [
       "array([[-119.81884272,   -5.56005586],\n",
       "       [-168.89015548,   10.11620863],\n",
       "       [-169.31170747,   14.0805323 ],\n",
       "       ...,\n",
       "       [-138.38716306,    0.9380922 ],\n",
       "       [-137.50517338,    4.2518251 ],\n",
       "       [-139.19033295,    1.00906423]])"
      ]
     },
     "execution_count": 37,
     "metadata": {},
     "output_type": "execute_result"
    }
   ],
   "source": [
    "pca.fit_transform(X)"
   ]
  },
  {
   "cell_type": "code",
   "execution_count": 39,
   "metadata": {},
   "outputs": [
    {
     "data": {
      "text/plain": [
       "array([0.80582318, 0.16305197])"
      ]
     },
     "execution_count": 39,
     "metadata": {},
     "output_type": "execute_result"
    }
   ],
   "source": [
    "pca.explained_variance_ratio_ #this helps to identify how many features we need to select"
   ]
  },
  {
   "cell_type": "code",
   "execution_count": 45,
   "metadata": {},
   "outputs": [],
   "source": [
    "#contribution of each lambda in variance\n",
    "total=sum(lambdas)\n",
    "explained_var=np.round(lambdas/total,3)"
   ]
  },
  {
   "cell_type": "code",
   "execution_count": 47,
   "metadata": {},
   "outputs": [],
   "source": [
    "commulative_var=np.cumsum(explained_var)"
   ]
  },
  {
   "cell_type": "code",
   "execution_count": 48,
   "metadata": {},
   "outputs": [],
   "source": [
    "import matplotlib.pyplot as plt\n"
   ]
  },
  {
   "cell_type": "code",
   "execution_count": 53,
   "metadata": {},
   "outputs": [
    {
     "data": {
      "image/png": "[encoded data removed]",
      "text/plain": [
       "<Figure size 432x288 with 1 Axes>"
      ]
     },
     "metadata": {
      "needs_background": "light"
     },
     "output_type": "display_data"
    }
   ],
   "source": [
    "plt.plot(commulative_var,marker =\"o\")\n",
    "plt.xlabel(\"Number of features\")\n",
    "plt.grid(\"on\")"
   ]
  }
 ],
 "metadata": {
  "kernelspec": {
   "display_name": "Python 3",
   "language": "python",
   "name": "python3"
  },
  "language_info": {
   "codemirror_mode": {
    "name": "ipython",
    "version": 3
   },
   "file_extension": ".py",
   "mimetype": "text/x-python",
   "name": "python",
   "nbconvert_exporter": "python",
   "pygments_lexer": "ipython3",
   "version": "3.10.4"
  },
  "orig_nbformat": 4
 },
 "nbformat": 4,
 "nbformat_minor": 2
}
